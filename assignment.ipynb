{
 "cells": [
  {
   "cell_type": "markdown",
   "metadata": {},
   "source": [
    "# 1. In Python, what is the difference between a built-in function and a user-defined function? Provide an example of each."
   ]
  },
  {
   "cell_type": "markdown",
   "metadata": {},
   "source": [
    "# Solution 1\n"
   ]
  },
  {
   "cell_type": "markdown",
   "metadata": {},
   "source": [
    "## -> In Python, built-in functions are functions that are provided by the Python interpreter as part of the Python Standard Library. These functions are readily available for use without the need to define them explicitly. They cover a wide range of functionalities and are designed to perform common tasks efficiently.\n",
    "\n",
    "## -> On the other hand, user-defined functions are functions that are defined by the programmer to perform specific tasks tailored to their requirements. These functions are created using the def keyword followed by a function name, parameters (if any), and a block of code defining the function's behavior."
   ]
  },
  {
   "cell_type": "code",
   "execution_count": 2,
   "metadata": {},
   "outputs": [
    {
     "name": "stdout",
     "output_type": "stream",
     "text": [
      "13\n"
     ]
    }
   ],
   "source": [
    "# Example of a built-in function\n",
    "text = \"Hello, World!\"\n",
    "print(len(text))  \n"
   ]
  },
  {
   "cell_type": "code",
   "execution_count": 1,
   "metadata": {},
   "outputs": [
    {
     "name": "stdout",
     "output_type": "stream",
     "text": [
      "Hello, Alice!\n"
     ]
    }
   ],
   "source": [
    "# Example of a user-defined function\n",
    "def greet(name):\n",
    "    return \"Hello, \" + name + \"!\"\n",
    "\n",
    "print(greet(\"Alice\"))  "
   ]
  },
  {
   "cell_type": "markdown",
   "metadata": {},
   "source": [
    "## ---------------------------------------------------------------------------------------------"
   ]
  },
  {
   "cell_type": "markdown",
   "metadata": {},
   "source": [
    "# 2. How can you pass arguments to a function in Python? Explain the difference between positional arguments and keyword arguments."
   ]
  },
  {
   "cell_type": "markdown",
   "metadata": {},
   "source": [
    "# Solution 2"
   ]
  },
  {
   "cell_type": "markdown",
   "metadata": {},
   "source": [
    "##  In Python, We can pass arguments to a function in several ways:\n",
    "\n",
    "### Positional arguments: These are arguments passed to a function in the order they are defined in the function's parameter list. The number of arguments and their positions must match the function definition.\n",
    "\n",
    "### Keyword arguments: These are arguments preceded by their parameter names during function invocation. Unlike positional arguments, the order doesn't matter as long as you specify the parameter names. This allows you to pass arguments in any order and even omit certain arguments if their default values are defined in the function signature."
   ]
  },
  {
   "cell_type": "code",
   "execution_count": 3,
   "metadata": {},
   "outputs": [
    {
     "name": "stdout",
     "output_type": "stream",
     "text": [
      "8\n"
     ]
    }
   ],
   "source": [
    "# Function with positional arguments\n",
    "def add(x, y):\n",
    "    return x + y\n",
    "\n",
    "print(add(3, 5))"
   ]
  },
  {
   "cell_type": "code",
   "execution_count": 4,
   "metadata": {},
   "outputs": [
    {
     "name": "stdout",
     "output_type": "stream",
     "text": [
      "Hello, Alice!\n"
     ]
    }
   ],
   "source": [
    "\n",
    "# Function with keyword arguments\n",
    "def greet(name, message):\n",
    "    return message + \", \" + name + \"!\"\n",
    "\n",
    "print(greet(message=\"Hello\", name=\"Alice\"))"
   ]
  },
  {
   "cell_type": "markdown",
   "metadata": {},
   "source": [
    "## ---------------------------------------------------------------------------------------------"
   ]
  },
  {
   "cell_type": "markdown",
   "metadata": {},
   "source": [
    "# 3. What is the purpose of the return statement in a function? Can a function have multiple return statements? Explain with an example."
   ]
  },
  {
   "cell_type": "markdown",
   "metadata": {},
   "source": [
    "\n",
    "# Solution 3"
   ]
  },
  {
   "cell_type": "markdown",
   "metadata": {},
   "source": [
    "### The return statement in a function serves the purpose of exiting the function and returning a value (or values) back to the caller. Once a return statement is encountered in a function, the execution of the function stops, and the specified value (or values) is returned to the caller.and ther purpose of writing the specific code for a task is succes  \n",
    "\n",
    "### Yes a function has multiple return statement lets see with a example"
   ]
  },
  {
   "cell_type": "code",
   "execution_count": 9,
   "metadata": {},
   "outputs": [],
   "source": [
    "def number(x):\n",
    "    if x>=0:\n",
    "        return f\"{x} is positive\"\n",
    "    \n",
    "    else:\n",
    "        return f\"{x} is negative\"\n",
    "    \n"
   ]
  },
  {
   "cell_type": "code",
   "execution_count": 10,
   "metadata": {},
   "outputs": [
    {
     "name": "stdout",
     "output_type": "stream",
     "text": [
      "3 is positive\n"
     ]
    }
   ],
   "source": [
    "n = number(3)\n",
    "\n",
    "print(n)\n"
   ]
  },
  {
   "cell_type": "markdown",
   "metadata": {},
   "source": [
    "## ---------------------------------------------------------------------------------------------"
   ]
  },
  {
   "cell_type": "markdown",
   "metadata": {},
   "source": [
    "# 4. What are lambda functions in Python? How are they different from regular functions? Provide an example where a lambda function can be useful."
   ]
  },
  {
   "cell_type": "markdown",
   "metadata": {},
   "source": [
    "# Solution 4"
   ]
  },
  {
   "cell_type": "markdown",
   "metadata": {},
   "source": [
    "###  Lambda functions in Python, also known as anonymous functions, are small, inline functions that can have any number of parameters but can only have one expression. They are defined using the lambda keyword and are typically used for simple operations.\n",
    "\n",
    "##  Lambda functions are different from regular functions mainly in their syntax and use cases:\n",
    "\n",
    "### 1. Syntax: Lambda functions are defined using the lambda keyword followed by parameters and an expression, all on a single line. Regular functions are defined using the def keyword and can span multiple lines, allowing for more complex logic.\n",
    "\n",
    "### 2. Usage: Lambda functions are best suited for situations where a small, simple function is needed for a short period of time, such as within higher-order functions like map(), filter(), and reduce(). Regular functions are used for more complex logic and can be reused throughout a program."
   ]
  },
  {
   "cell_type": "code",
   "execution_count": 11,
   "metadata": {},
   "outputs": [
    {
     "name": "stdout",
     "output_type": "stream",
     "text": [
      "[1, 4, 9, 16, 25, 36, 49, 64]\n"
     ]
    }
   ],
   "source": [
    "numbers = [1,2,3,4,5,6,7,8]\n",
    "\n",
    "squred_number =map(lambda x:x**2 , numbers)\n",
    "\n",
    "print(list(squred_number))"
   ]
  },
  {
   "cell_type": "markdown",
   "metadata": {},
   "source": [
    "## ---------------------------------------------------------------------------------------------"
   ]
  },
  {
   "cell_type": "markdown",
   "metadata": {},
   "source": [
    "# 5. How does the concept of \"scope\" apply to functions in Python? Explain the difference between local scope and global scope."
   ]
  },
  {
   "cell_type": "markdown",
   "metadata": {},
   "source": [
    "# Solution 5\n"
   ]
  },
  {
   "cell_type": "markdown",
   "metadata": {},
   "source": [
    "### In Python, the concept of \"scope\" refers to the region of a program where a particular variable is accessible. It determines the visibility and lifetime of variables. The scope of a variable is defined by where it is declared or assigned within the code."
   ]
  },
  {
   "cell_type": "markdown",
   "metadata": {},
   "source": [
    "#### 1. Local Scope: Variables defined within a function are considered to be in the local scope. They are only accessible within that function and are not visible to code outside of the function. Once the function execution completes, the variables in the local scope are destroyed. This helps prevent naming conflicts and allows for encapsulation of variables within functions."
   ]
  },
  {
   "cell_type": "code",
   "execution_count": 12,
   "metadata": {},
   "outputs": [
    {
     "name": "stdout",
     "output_type": "stream",
     "text": [
      "10\n"
     ]
    }
   ],
   "source": [
    "def my_func():\n",
    "    x=10 # This value was is int he local scope of  my_func and only  ascess inside the function\n",
    "    \n",
    "    print(x)\n",
    "    \n",
    "my_func()"
   ]
  },
  {
   "cell_type": "markdown",
   "metadata": {},
   "source": [
    "#### 2. Global Scope: Variables defined outside of any function, at the top level of the script or module, are considered to be in the global scope. They can be accessed and modified from anywhere within the program, including inside functions. However, if a variable is modified within a function without being explicitly declared as global using the global keyword, Python will treat it as a new local variable within that function's scope."
   ]
  },
  {
   "cell_type": "code",
   "execution_count": 14,
   "metadata": {},
   "outputs": [
    {
     "name": "stdout",
     "output_type": "stream",
     "text": [
      "20\n"
     ]
    }
   ],
   "source": [
    "y = 20  # This variable y is in the global scope\n",
    "\n",
    "def my_function():\n",
    "    print(y)\n",
    "\n",
    "my_function()  \n"
   ]
  },
  {
   "cell_type": "markdown",
   "metadata": {},
   "source": [
    "## ---------------------------------------------------------------------------------------------"
   ]
  },
  {
   "cell_type": "markdown",
   "metadata": {},
   "source": [
    "# 6. How can you use the \"return\" statement in a Python function to return multiple values?"
   ]
  },
  {
   "cell_type": "markdown",
   "metadata": {},
   "source": [
    "# Solution 6"
   ]
  },
  {
   "cell_type": "markdown",
   "metadata": {},
   "source": [
    "## To return multiple values using return  see the exampl below"
   ]
  },
  {
   "cell_type": "code",
   "execution_count": 15,
   "metadata": {},
   "outputs": [
    {
     "name": "stdout",
     "output_type": "stream",
     "text": [
      "100\n",
      "200\n",
      "300\n"
     ]
    }
   ],
   "source": [
    "def multple_val():\n",
    "    x=100\n",
    "    y=200\n",
    "    z=300\n",
    "    \n",
    "    return(x,y,z)\n",
    "# Calling the function and unpacking the returned tuple into variables\n",
    "result1,result2,result3 =multple_val()\n",
    "\n",
    "print(result1)  \n",
    "print(result2)  \n",
    "print(result3)"
   ]
  },
  {
   "cell_type": "markdown",
   "metadata": {},
   "source": [
    "## ---------------------------------------------------------------------------------------------"
   ]
  },
  {
   "cell_type": "markdown",
   "metadata": {},
   "source": [
    "# 7. What is the difference between the \"pass by value\" and \"pass by reference\" concepts when it comes to function arguments in Python?"
   ]
  },
  {
   "cell_type": "markdown",
   "metadata": {},
   "source": [
    "# Solution 7"
   ]
  },
  {
   "cell_type": "markdown",
   "metadata": {},
   "source": [
    "### Pass by Value: In pass by value, a copy of the actual value of the argument is passed to the function. This means that any modifications made to the parameter inside the function do not affect the original value of the argument outside the function. This is typical in languages like C++.\n",
    "\n",
    "### Pass by Reference: In pass by reference, instead of passing a copy of the value, a reference (memory address) to the original value is passed to the function. This allows the function to directly modify the original value of the argument, as it has access to its memory location. Changes made to the parameter inside the function are reflected in the original value outside the function. This is typical in languages like C++ with the use of pointers.\n",
    "\n",
    "## However, in Python, neither \"pass by value\" nor \"pass by reference\" fully describes how arguments are passed to functions. Python uses a mechanism that is often called \"pass by object reference\" or \"pass by assignment\".\n",
    "\n",
    "### In Python:\n",
    "\n",
    "### When we pass immutable objects like integers, strings, or tuples to a function, they are passed by value-like behavior. Changes made to these objects inside the function do not affect the original objects outside the function.\n",
    "### When you pass mutable objects like lists, dictionaries, or custom objects to a function, they are passed by reference-like behavior. Changes made to these objects inside the function will affect the original objects outside the function."
   ]
  },
  {
   "cell_type": "code",
   "execution_count": 16,
   "metadata": {},
   "outputs": [
    {
     "name": "stdout",
     "output_type": "stream",
     "text": [
      "[1, 2, 3, 4]\n"
     ]
    }
   ],
   "source": [
    "def modify_list(lst):\n",
    "    lst.append(4)  # This modifies the original list\n",
    "\n",
    "my_list = [1, 2, 3]\n",
    "modify_list(my_list)\n",
    "print(my_list)  \n"
   ]
  },
  {
   "cell_type": "markdown",
   "metadata": {},
   "source": [
    "## ---------------------------------------------------------------------------------------------"
   ]
  },
  {
   "cell_type": "markdown",
   "metadata": {},
   "source": [
    "# 8. Create a function that can intake integer or decimal value and do following operations:\n",
    "## a. Logarithmic function (log x)\n",
    "## b. Exponential function (exp(x))\n",
    "## c. Power function\n",
    "## d. Squre root\n"
   ]
  },
  {
   "cell_type": "markdown",
   "metadata": {},
   "source": [
    "# Solution8"
   ]
  },
  {
   "cell_type": "code",
   "execution_count": 19,
   "metadata": {},
   "outputs": [
    {
     "name": "stdout",
     "output_type": "stream",
     "text": [
      "For the number 8\n",
      "Logarithmic: 2.0794415416798357\n",
      "Exponential: 2980.9579870417283\n",
      "Power (base 2): 256.0\n",
      "Square root: 2.8284271247461903\n"
     ]
    }
   ],
   "source": [
    "import math # impirt math to use the method s of math\n",
    "\n",
    "def math_operations(x):\n",
    "    results = {}\n",
    "    results['logarithmic'] = math.log(x)\n",
    "    results['exponential'] = math.exp(x)\n",
    "    results['power_base_2'] = math.pow(2, x)\n",
    "    results['square_root'] = math.sqrt(x)\n",
    "    return results\n",
    "\n",
    "\n",
    "number = int(input(\"Enter the number\")) # Input value\n",
    "operations_result = math_operations(number)\n",
    "print(\"For the number\", number)\n",
    "print(\"Logarithmic:\", operations_result['logarithmic'])\n",
    "print(\"Exponential:\", operations_result['exponential'])\n",
    "print(\"Power (base 2):\", operations_result['power_base_2'])\n",
    "print(\"Square root:\", operations_result['square_root'])\n"
   ]
  },
  {
   "cell_type": "markdown",
   "metadata": {},
   "source": [
    "## ---------------------------------------------------------------------------------------------"
   ]
  },
  {
   "cell_type": "markdown",
   "metadata": {},
   "source": [
    "# 9. Create a function that takes a full name as an argument and returns first name and last name."
   ]
  },
  {
   "cell_type": "markdown",
   "metadata": {},
   "source": [
    "# Solution 9"
   ]
  },
  {
   "cell_type": "markdown",
   "metadata": {},
   "source": [
    " ### Here is a code   that take full name as a arguement and   give us name and surname"
   ]
  },
  {
   "cell_type": "code",
   "execution_count": 29,
   "metadata": {},
   "outputs": [
    {
     "name": "stdout",
     "output_type": "stream",
     "text": [
      "First name : Ajay\n",
      "Last name : Chaudhary\n"
     ]
    }
   ],
   "source": [
    "def split_name(full_name):\n",
    "    \n",
    "    name = full_name.split()\n",
    "    \n",
    "    if len(name)==1:\n",
    "        \n",
    "        first_name =name[0]\n",
    "        last_name = \"\"\n",
    "        \n",
    "    else:\n",
    "        first_name= name[0]\n",
    "        last_name=' '.join(name[1:])\n",
    "        \n",
    "    print(\"First name :\" , first_name)\n",
    "    print(\"Last name :\" , last_name)\n",
    "\n",
    "full_name = input(\"Enter full name\")\n",
    "\n",
    "split_name(full_name)\n",
    "\n",
    "\n"
   ]
  },
  {
   "cell_type": "markdown",
   "metadata": {},
   "source": [
    "## -> here is one more way to write this ;"
   ]
  },
  {
   "cell_type": "code",
   "execution_count": 30,
   "metadata": {},
   "outputs": [
    {
     "name": "stdout",
     "output_type": "stream",
     "text": [
      "First name : ajay\n",
      "Last name : chaudhary\n"
     ]
    }
   ],
   "source": [
    "def split_name(full_name):\n",
    "    \n",
    "    name = full_name.split()\n",
    "    \n",
    "    if len(name)==1:\n",
    "        \n",
    "        first_name =name[0]\n",
    "        last_name = \"\"\n",
    "        \n",
    "    else:\n",
    "        first_name= name[0]\n",
    "        last_name=' '.join(name[1:])\n",
    "        \n",
    "    return first_name,last_name\n",
    "    \n",
    "\n",
    "full_name = input(\"Enter full name\")\n",
    "\n",
    "first_name,last_name = split_name(full_name)\n",
    "\n",
    "print(\"First name :\" , first_name)\n",
    "\n",
    "print(\"Last name :\" , last_name)\n"
   ]
  }
 ],
 "metadata": {
  "kernelspec": {
   "display_name": "Python 3",
   "language": "python",
   "name": "python3"
  },
  "language_info": {
   "codemirror_mode": {
    "name": "ipython",
    "version": 3
   },
   "file_extension": ".py",
   "mimetype": "text/x-python",
   "name": "python",
   "nbconvert_exporter": "python",
   "pygments_lexer": "ipython3",
   "version": "3.11.4"
  }
 },
 "nbformat": 4,
 "nbformat_minor": 2
}
